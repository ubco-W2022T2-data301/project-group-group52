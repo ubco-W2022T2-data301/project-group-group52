{
 "cells": [
  {
   "cell_type": "markdown",
   "metadata": {},
   "source": [
    "# Cody Deleurme"
   ]
  },
  {
   "cell_type": "markdown",
   "metadata": {},
   "source": [
    "## Research question/interests\n",
    "\n",
    "Briefly describe your research question or interests here."
   ]
  },
  {
   "cell_type": "code",
   "execution_count": null,
   "metadata": {},
   "outputs": [],
   "source": [
    "import pandas as pd\n",
    "\n",
    "df = pd.read_csv(\"../data/raw/Highest Holywood Grossing Movies.csv\")"
   ]
  },
  {
   "cell_type": "code",
   "execution_count": null,
   "metadata": {},
   "outputs": [
    {
     "name": "stderr",
     "output_type": "stream",
     "text": [
      "C:\\Users\\deleu\\AppData\\Local\\Temp\\ipykernel_11896\\676155851.py:2: FutureWarning: The default value of regex will change from True to False in a future version. In addition, single character regular expressions will *not* be treated as literal strings when regex=True.\n",
      "  df['Genre'] = df['Genre'].str.replace(\"]\", '')\n",
      "C:\\Users\\deleu\\AppData\\Local\\Temp\\ipykernel_11896\\676155851.py:3: FutureWarning: The default value of regex will change from True to False in a future version. In addition, single character regular expressions will *not* be treated as literal strings when regex=True.\n",
      "  df['Genre'] = df['Genre'].str.replace(\"[\", ' ')\n"
     ]
    },
    {
     "data": {
      "text/plain": [
       "'Adventure'      432\n",
       "'Comedy'         399\n",
       "'Action'         396\n",
       "'Drama'          300\n",
       "'Thriller'       230\n",
       "'Sci-Fi'         228\n",
       "'Fantasy'        227\n",
       "'Family'         227\n",
       "'Romance'        142\n",
       "'Animation'      140\n",
       "'Crime'          136\n",
       "'Mystery'         87\n",
       "'Musical'         51\n",
       "'Horror'          45\n",
       "'Biography'       39\n",
       "'Music'           33\n",
       "'Sport'           28\n",
       "'War'             27\n",
       "'History'         22\n",
       "'Western'         14\n",
       "'Documentary'      2\n",
       "dtype: int64"
      ]
     },
     "execution_count": null,
     "metadata": {},
     "output_type": "execute_result"
    }
   ],
   "source": [
    "df['Genre'] = df['Genre'].str.replace(\",\", ' ')\n",
    "df['Genre'] = df['Genre'].str.replace(\"]\", '')\n",
    "df['Genre'] = df['Genre'].str.replace(\"[\", ' ')\n",
    "genre_counts = df.Genre.str.split(expand=True).stack().value_counts()\n",
    "genre_counts"
   ]
  }
 ],
 "metadata": {
  "kernelspec": {
   "display_name": "Python 3 (ipykernel)",
   "language": "python",
   "name": "python3"
  }
 },
 "nbformat": 4,
 "nbformat_minor": 4
}
