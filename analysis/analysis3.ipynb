{
 "cells": [
  {
   "cell_type": "markdown",
   "metadata": {},
   "source": [
    "# Cody Deleurme"
   ]
  },
  {
   "attachments": {},
   "cell_type": "markdown",
   "metadata": {},
   "source": [
    "## Research question/interests\n",
    "\n",
    "What interests me most about this data is whether these high grossing movies are any better than less popular films. Going into this topic, I will admit that I am somewhat biased as I've seen dozens of films not contained in this dataset which I've rated an 8 out of 10 or higher. That being said, I will be fair and let the data speak for itself. I will be using a dataset of my own creation to examine the ratings of each of these films on Imdb, letterboxd, rottentomatoes, and rateyourmusic. If I have time, I would also like to compare and contrast my own ratings of some of these films to their aggregate ratings.\n",
    "\n",
    "My research question will be thus: **\"Is there any relationship between the quality of a movie and its popularity? If so, then to what degree does a movie's popularity translate to overall quality?\"** \n",
    "\n",
    "## Methods\n",
    "\n",
    "To answer this research question, I will be using 3 different aggregate rating scores from 3 different locations. These locations are as follows:\n",
    " - Imdb weighted average rating out of 10\n",
    " - Letterboxd weighted average rating out of 5 stars\n",
    " - RateYourMusic weighted average rating out of 5 stars\n",
    " \n",
    "Credits go to:\n",
    " - (Sonemic)[\"Sonemic.com\"] for the RateYourMusic data\n",
    " - (IMDb)[\"Imdb.com\"] for the IMDb data\n",
    " - (Letterboxd)[\"Letterboxd.com\"] for the Letterboxd data\n",
    "\n",
    "### How are these ratings aggregated?\n",
    "In order to properly understand my analysis, it is important that we understand how each of these sites aggregates their ratings because they have significant differences.\n",
    "\n",
    "#### Imdb\n",
    "Imdb uses a simple weighted average system to give movies a score out of 10 rounded to one decimal place. Not every rating is equal on Imdb. According to the website, when users with unusual voting activity are detected, their rating is given a lesser weight to the overall score. This is to prevent 'review-bombing' or abuse of the system.\n",
    "\n",
    "#### Letterboxd\n",
    "Letterboxd uses a similar system to Imdb, except that it has a 10 point scale where you can rate things from 0.5 stars to 5 stars. Also, one other key difference is that Letterboxd attempts to account for low sample size by weighting down films with low numbers of ratings.\n",
    "\n",
    "#### RateYourMusic (films)\n",
    "RateYourMusic (aka RYM) uses a weighted average system which rewards users who actively participate on the website. The rating scale is a 5 star system, but a 10 point scale, like Letterboxd. Again, not all ratings equally contribute to the final score. Users who sign up and leave a few ratings on the website are weighted less (~0.5) than users who actively participate (~1). Users who abuse the system are given a near-zero weighting (~0). One interesting caveat of RYM is that they actually give a small bonus to someone's weighting if they not only rate a movie, but also leave a review (~1.25).\n",
    "\n",
    "### What assumptions will I make?\n",
    "\n",
    "In this analysis, I will be converting every aggregate score to a rating out of 10, rounded to 2 decimal places. I will follow RottenTomatoes' audience score assumption and assume that an 'average' movie is one that is a 6/10. This seems to be reasonable as the other 3 websites have a minimum rating of 1/10 or 0.5/5 with a maximum rating of 10 or 5, implying an arithemetic mean of 6/10 or 3/5. To account for uncertainty and inaccuracies in ratings, as well as differences in the subjective rating scales of individual moviegoers, I will expand the definition of an 'average' movie to be any movie rated between 5.50 and 6.49 inclusive. Any movie rated 6.50 or above will be considered 'good', whereas any movie rated 5.49 or below will be considered 'bad'. Amongst the 'good' movies, I will make the further distinction that a movie rated 8.00 or higher is 'great'.\n",
    "\n",
    "#### In summary\n",
    "\n",
    " - 0 - 5.49 = Bad\n",
    " - 5.50 - 6.49 = Average\n",
    " - 6.50 - 10.00 = Good\n",
    "    - 8.00 - 10.00 = Great\n",
    "\n",
    "### How will I conduct this analysis?\n",
    "\n",
    "I will first analyze the rating data by using a weighted average of all 5 ratings sources, then I will do an individual analysis of the scores for each website. I expect the initial analysis will give a solid holistic view of the overall movie quality, whereas the individual analysis will help explain variation in ratings from different sites.\n",
    "\n",
    "## Data Analysis\n",
    "\n"
   ]
  },
  {
   "cell_type": "code",
   "execution_count": null,
   "metadata": {
    "vscode": {
     "languageId": "python"
    }
   },
   "outputs": [],
   "source": [
    "import pandas as pd\n",
    "import numpy as np\n",
    "import seaborn as sns\n",
    "import matplotlib.pyplot as plt\n",
    "\n",
    "df = pd.read_csv(\"../data/processed/Movie Aggregate Rating Data Final.csv\")\n",
    "\n",
    "# This is a dataset of my own creation. All data in this set was manually obtained and entered by myself."
   ]
  },
  {
   "attachments": {},
   "cell_type": "markdown",
   "metadata": {},
   "source": [
    "## M4 Task 1"
   ]
  },
  {
   "cell_type": "code",
   "execution_count": null,
   "metadata": {
    "vscode": {
     "languageId": "python"
    }
   },
   "outputs": [
    {
     "name": "stdout",
     "output_type": "stream",
     "text": [
      "                                                 Title  Imdb  Letterboxd  \\\n",
      "0    Star Wars: Episode VII - The Force Awakens (2015)   7.8        6.82   \n",
      "1                             Avengers: Endgame (2019)   8.4        7.84   \n",
      "2                                        Avatar (2009)   7.9        7.06   \n",
      "3                                 Black Panther (2018)   7.3        7.48   \n",
      "4                        Avengers: Infinity War (2018)   8.4        8.00   \n",
      "..                                                 ...   ...         ...   \n",
      "244                             Pitch Perfect 2 (2015)   6.4         NaN   \n",
      "245                          Dances with Wolves (1990)   8.0         NaN   \n",
      "246                              Batman Forever (1995)   5.4         NaN   \n",
      "247                                The Fugitive (1993)   7.8         NaN   \n",
      "248                                 Black Widow (2021)   6.7         NaN   \n",
      "\n",
      "    Imdb Sample Size   RYM RYM Sample Size  RT (Audience)  \\\n",
      "0           (936432)  6.06          (7496)           85.0   \n",
      "1          (1143197)  6.50          (5091)           90.0   \n",
      "2          (1315981)  5.42          (7624)           82.0   \n",
      "3           (781423)  5.94          (4535)           79.0   \n",
      "4          (1091599)  6.86          (5540)           92.0   \n",
      "..               ...   ...             ...            ...   \n",
      "244             None  4.68            None            NaN   \n",
      "245             None  6.84            None            NaN   \n",
      "246             None  4.26            None            NaN   \n",
      "247             None  6.92            None            NaN   \n",
      "248             None  5.24            None            NaN   \n",
      "\n",
      "    RT (Audience) Sample Size  RT (Critic) RT (Critic) Sample Size  \\\n",
      "0                   (100000+)         93.0                   (450)   \n",
      "1                    (50000+)         94.0                   (555)   \n",
      "2                   (250000+)         82.0                   (335)   \n",
      "3                    (50000+)         96.0                   (530)   \n",
      "4                    (50000+)         85.0                   (489)   \n",
      "..                        ...          ...                     ...   \n",
      "244                       NaN          NaN                     NaN   \n",
      "245                       NaN          NaN                     NaN   \n",
      "246                       NaN          NaN                     NaN   \n",
      "247                       NaN          NaN                     NaN   \n",
      "248                       NaN          NaN                     NaN   \n",
      "\n",
      "    Letterboxd Sample Size  \n",
      "0                 (802884)  \n",
      "1                (1131629)  \n",
      "2                 (814160)  \n",
      "3                (1112607)  \n",
      "4                (1180128)  \n",
      "..                     ...  \n",
      "244                    NaN  \n",
      "245                    NaN  \n",
      "246                    NaN  \n",
      "247                    NaN  \n",
      "248                    NaN  \n",
      "\n",
      "[249 rows x 11 columns]\n"
     ]
    },
    {
     "name": "stderr",
     "output_type": "stream",
     "text": [
      "/var/folders/gh/lskmt33s5hl6qxw5zrrd8d140000gn/T/ipykernel_50503/3120181356.py:4: FutureWarning: In a future version of pandas all arguments of StringMethods.split except for the argument 'pat' will be keyword-only.\n",
      "  df[['Imdb', 'Imdb Sample Size']] = df['Imdb'].str.split(' ', 1, expand=True)\n",
      "/var/folders/gh/lskmt33s5hl6qxw5zrrd8d140000gn/T/ipykernel_50503/3120181356.py:5: FutureWarning: In a future version of pandas all arguments of StringMethods.split except for the argument 'pat' will be keyword-only.\n",
      "  df[['RYM', 'RYM Sample Size']] = df['Rateyourmusic'].str.split(' ', 1, expand=True)\n",
      "/var/folders/gh/lskmt33s5hl6qxw5zrrd8d140000gn/T/ipykernel_50503/3120181356.py:6: FutureWarning: In a future version of pandas all arguments of StringMethods.split except for the argument 'pat' will be keyword-only.\n",
      "  df[['RT (Audience)', 'RT (Audience) Sample Size']] = df['RT(Audience)'].str.split(' ', 1, expand=True)\n",
      "/var/folders/gh/lskmt33s5hl6qxw5zrrd8d140000gn/T/ipykernel_50503/3120181356.py:7: FutureWarning: In a future version of pandas all arguments of StringMethods.split except for the argument 'pat' will be keyword-only.\n",
      "  df[['RT (Critic)', 'RT (Critic) Sample Size']] = df['RT(Critic)'].str.split(' ', 1, expand=True)\n",
      "/var/folders/gh/lskmt33s5hl6qxw5zrrd8d140000gn/T/ipykernel_50503/3120181356.py:8: FutureWarning: In a future version of pandas all arguments of StringMethods.split except for the argument 'pat' will be keyword-only.\n",
      "  df[['Letterboxd', 'Letterboxd Sample Size']] = df['Letterboxd'].str.split(' ', 1, expand=True)\n"
     ]
    }
   ],
   "source": [
    "df = df.drop(columns = ['Unnamed: 4', 'Unnamed: 5', 'Unnamed: 6', 'Unnamed: 7', 'Unnamed: 8', 'Unnamed: 9', 'Unnamed: 10'])\n",
    "df = df.dropna(subset = ['Imdb', 'Rateyourmusic', 'Letterboxd'])\n",
    "\n",
    "df[['Imdb', 'Imdb Sample Size']] = df['Imdb'].str.split(' ', 1, expand=True)\n",
    "df[['RYM', 'RYM Sample Size']] = df['Rateyourmusic'].str.split(' ', 1, expand=True)\n",
    "df[['Letterboxd', 'Letterboxd Sample Size']] = df['Letterboxd'].str.split(' ', 1, expand=True)\n",
    "df[['Title', 'Release Year']] = df['Title'].str.split('(', 1, expand=True)\n",
    "df = df.drop(columns = ['Rateyourmusic'])\n",
    "df[['Imdb Sample Size', 'RYM Sample Size', 'Letterboxd Sample Size', 'Release Year']] = df[['Imdb Sample Size', 'RYM Sample Size', 'Letterboxd Sample Size', 'Release Year']].replace(r'[^\\w\\s]|_', '', regex=True)\n",
    "# cleaning up data and seperating thigns into proper columns\n",
    "\n",
    "# need to standardize ratings to properly compare\n",
    "df = df.apply(pd.to_numeric, errors = 'ignore')\n",
    "df['RYM'] = df['RYM'].apply(lambda x: x*2)\n",
    "df['Letterboxd'] = df['Letterboxd'].apply(lambda x: x*2)\n",
    "df[head]"
   ]
  },
  {
   "attachments": {},
   "cell_type": "markdown",
   "metadata": {},
   "source": [
    "## M4 Task 3\n",
    "\n",
    "First we will define a column called \"Weighted Score\". This takes the average rating out of ten for each movie from the three websites."
   ]
  },
  {
   "cell_type": "code",
   "execution_count": null,
   "metadata": {
    "vscode": {
     "languageId": "python"
    }
   },
   "outputs": [],
   "source": [
    "df['RYM'] = df['RYM'].apply(lambda x: x*2) #standardizing the ratings\n",
    "df['Letterboxd'] = df['Letterboxd'].apply(lambda x: x*2)\n",
    "\n",
    "df['Weighted Rating'] = df['RYM'] + df['Imdb'] + df['Letterboxd']\n",
    "df['Weighted Rating'] = df['Weighted Rating'].apply(lambda x: x/3) #taking the average to get weighted rating"
   ]
  },
  {
   "attachments": {},
   "cell_type": "markdown",
   "metadata": {},
   "source": [
    "### Scatterplots\n",
    "\n",
    "The first visualization is a scatterplot showing the relationship between IMDb ratings and Rateyourmusic ratings.\n",
    "\n",
    "From this graph, we can make two observations:\n",
    "1. Ratings on Imdb and RYM have a high correlation, which could possibly be linear.\n",
    "2. Ratings on Imdb tend to be significantly higher on average than on RYM"
   ]
  },
  {
   "cell_type": "code",
   "execution_count": null,
   "metadata": {
    "vscode": {
     "languageId": "python"
    }
   },
   "outputs": [],
   "source": [
    "# I am setting the limits of this plot to be between 0 and 10 on both axes to reflect the minimum and maximum rating values.\n",
    "# The reason I am doing this is to clearly show the differences in average ratings on the two sites.\n",
    "plt.ylim(0,10)\n",
    "plt.xlim(0,10)\n",
    "plot1 = sns.scatterplot(data = df, x = 'Imdb', y = 'RYM', size = 5).set(title = 'Relationship between Imdb and RYM Movie Ratings', xlabel = 'Imdb Ratings', ylabel = 'RYM Ratings')"
   ]
  },
  {
   "attachments": {},
   "cell_type": "markdown",
   "metadata": {},
   "source": [
    "The second visualization is a pair plot which compares relationships between each of the four variables of interest.\n",
    "From this plot, we can make the following observations:\n",
    " - Ratings are positively correlated across all websites\n",
    " - Rateyourmusic tends to have the lowest average rating\n",
    " - Letterboxd seems to have the most 'normal' distribution\n",
    " - IMDb tends to be the most negatively skewed distribution, with very few observations lower than a 6/10"
   ]
  },
  {
   "cell_type": "code",
   "execution_count": null,
   "metadata": {
    "vscode": {
     "languageId": "python"
    }
   },
   "outputs": [],
   "source": [
    "pplot = sns.pairplot(data = df, x_vars = ['RYM', 'Imdb', 'Letterboxd', 'Weighted Rating'],\n",
    "             y_vars = ['RYM', 'Imdb', 'Letterboxd', 'Weighted Rating'],\n",
    "             corner = True, plot_kws={'s': 5}).set(xlim=(0,10), ylim = (0,10))"
   ]
  },
  {
   "attachments": {},
   "cell_type": "markdown",
   "metadata": {},
   "source": [
    "This gives us a good idea of how ratings differ across these websites. That being established, we will now directly examine Weighted Rating.\n",
    "\n",
    "### Boxplot and Summary Statistics\n",
    "\n",
    "Starting with this box plot and these summary statistics represented on the box plot, we can make a few observations about Weighted Rating.\n",
    "1. The median of Weighted Rating is 6.33, implying that, by our definition of Good, Bad, and Average, 50% or higher of observations are Average or Bad.\n",
    "2. Quartile 1 is at 5.71/10. This implies that 25% of observations are below this rating.\n",
    "3. Quartile 3 is 7.09/10. This implies that 25% of observations are above this rating.\n",
    "4. 50% of observations fall between 5.71 and 7.09, meaning that the majority of movies from this dataset are by definition, Average or Good.\n",
    "5. The mean (6.39) of Weighted Rating is slightly higher than the median (6.33). This implies that the distribution of Weighted Rating has a slight skew to the right.\n",
    "6. The standard deviation is ~0.96."
   ]
  },
  {
   "cell_type": "code",
   "execution_count": null,
   "metadata": {
    "vscode": {
     "languageId": "python"
    }
   },
   "outputs": [],
   "source": [
    "plot2 = sns.boxplot(data = df, x = 'Weighted Rating').set(title = 'Box Plot of Weighted Rating out of 10 for Imdb and RYM', xlabel = 'Weighted Rating (0-10 Scale)')\n",
    "print(plot2)"
   ]
  },
  {
   "cell_type": "code",
   "execution_count": null,
   "metadata": {
    "vscode": {
     "languageId": "python"
    }
   },
   "outputs": [],
   "source": [
    "df['Weighted Rating'].describe()"
   ]
  },
  {
   "attachments": {},
   "cell_type": "markdown",
   "metadata": {},
   "source": [
    "\n",
    "### Histograms\n",
    "\n",
    "Now we will look at a few frequency distributions of Weighted Rating to see how many observations fall into each bucket."
   ]
  },
  {
   "cell_type": "code",
   "execution_count": null,
   "metadata": {
    "vscode": {
     "languageId": "python"
    }
   },
   "outputs": [],
   "source": [
    "# Let us put Weighted Rating into a histogram to get a clearer sense of its distribution\n",
    "rating_bins = pd.Series(np.arange(0, 11, 1)) \n",
    "# Above code creates a series of cutoff points which we can easily adjust to see the frequency of a movie having a Weighted Rating within specific ranges\n",
    "plot3 = sns.displot(data = df, x = 'Weighted Rating', bins = rating_bins).set(title = 'Distribution of Movies by Weighted Rating')"
   ]
  },
  {
   "attachments": {},
   "cell_type": "markdown",
   "metadata": {},
   "source": [
    "\n",
    "As we can see, Weighted Ratings are clustered heavily around the 5 to 7.99 range. When we look closer on the following histograms, we see that they are especially frequent around the 5.25 to 6.49 range, with a small dip, and then continue to be frequent in the 6.75 to 7.49 range. This is interesting because it could potentially imply that our distribution is bimodal. However, to determine whether this distribution is actually bimodal would require additional analysis, which "
   ]
  },
  {
   "cell_type": "code",
   "execution_count": null,
   "metadata": {
    "vscode": {
     "languageId": "python"
    }
   },
   "outputs": [],
   "source": []
  }
 ],
 "metadata": {
  "kernelspec": {
   "display_name": "Python 3 (ipykernel)",
   "language": "python",
   "name": "python3"
  }
 },
 "nbformat": 4,
 "nbformat_minor": 4
}
