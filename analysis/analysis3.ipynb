{
 "cells": [
  {
   "cell_type": "markdown",
   "metadata": {},
   "source": [
    "# Cody Deleurme"
   ]
  },
  {
   "cell_type": "markdown",
   "metadata": {},
   "source": [
    "## Research question/interests\n",
    "\n",
    "What interests me most about this data is whether these high grossing movies are any better than less popular films. Going into this topic, I will admit that I am somewhat biased as I've seen dozens of films not contained in this dataset which I've rated an 8 out of 10 or higher. That being said, I will be fair and let the data speak for itself. I will be using a dataset of my own creation to examine the ratings of each of these films on Imdb, letterboxd, rottentomatoes, and rateyourmusic. If I have time, I would also like to compare and contrast my own ratings of some of these films to their aggregate ratings.\n",
    "\n",
    "My research questions will be thus: **\"Is there any relationship between the quality of a movie and its popularity? Also, is there any significant relationship between a movie's release year and its quality?\"** \n",
    "\n",
    "## Methods\n",
    "\n",
    "To answer this research question, I will be using 3 different aggregate rating scores from 3 different locations. These locations are as follows:\n",
    " - Imdb weighted average rating out of 10\n",
    " - Letterboxd weighted average rating out of 5 stars\n",
    " - RateYourMusic weighted average rating out of 5 stars\n",
    " \n",
    "Credits go to:\n",
    " - [Sonemic](\"Sonemic.com\") for the RateYourMusic data\n",
    " - [IMDb](\"Imdb.com\") for the IMDb data\n",
    " - [Letterboxd](\"Letterboxd.com\") for the Letterboxd data\n",
    "\n",
    "### How are these ratings aggregated?\n",
    "In order to properly understand my analysis, it is important that we understand how each of these sites aggregates their ratings because they have significant differences.\n",
    "\n",
    "#### Imdb\n",
    "Imdb uses a simple weighted average system to give movies a score out of 10 rounded to one decimal place. Not every rating is equal on Imdb. According to the website, when users with unusual voting activity are detected, their rating is given a lesser weight to the overall score. This is to prevent 'review-bombing' or abuse of the system.\n",
    "\n",
    "#### Letterboxd\n",
    "Letterboxd uses a similar system to Imdb, except that it has a 10 point scale where you can rate things from 0.5 stars to 5 stars. Also, one other key difference is that Letterboxd attempts to account for low sample size by weighting down films with low numbers of ratings.\n",
    "\n",
    "#### RateYourMusic (films)\n",
    "RateYourMusic (aka RYM) uses a weighted average system which rewards users who actively participate on the website. The rating scale is a 5 star system, but a 10 point scale, like Letterboxd. Again, not all ratings equally contribute to the final score. Users who sign up and leave a few ratings on the website are weighted less (~0.5) than users who actively participate (~1). Users who abuse the system are given a near-zero weighting (~0). One interesting caveat of RYM is that they actually give a small bonus to someone's weighting if they not only rate a movie, but also leave a review (~1.25).\n",
    "\n",
    "### What assumptions will I make?\n",
    "\n",
    "In this analysis, I will be converting every aggregate score to a rating out of 10, rounded to 2 decimal places. I will follow RottenTomatoes' audience score assumption and assume that an 'average' movie is one that is a 6/10. This seems to be reasonable as the other 3 websites have a minimum rating of 1/10 or 0.5/5 with a maximum rating of 10 or 5, implying an arithemetic mean of 6/10 or 3/5. To account for uncertainty and inaccuracies in ratings, as well as differences in the subjective rating scales of individual moviegoers, I will expand the definition of an 'average' movie to be any movie rated between 5.50 and 6.49 inclusive. Any movie rated 6.50 or above will be considered 'good', whereas any movie rated 5.49 or below will be considered 'bad'. Amongst the 'good' movies, I will make the further distinction that a movie rated 8.00 or higher is 'great'.\n",
    "\n",
    "#### In summary\n",
    "\n",
    " - 0 - 5.49 = Bad\n",
    " - 5.50 - 6.49 = Average\n",
    " - 6.50 - 10.00 = Good\n",
    "    - 8.00 - 10.00 = Great\n",
    "\n",
    "### How will I conduct this analysis?\n",
    "\n",
    "I will first analyze the rating data by using a weighted average of all 5 ratings sources, then I will do an individual analysis of the scores for each website. I expect the initial analysis will give a solid holistic view of the overall movie quality, whereas the individual analysis will help explain variation in ratings from different sites.\n",
    "\n",
    "## Data Analysis\n",
    "\n"
   ]
  },
  {
   "cell_type": "code",
   "execution_count": 1,
   "metadata": {
    "vscode": {
     "languageId": "python"
    }
   },
   "outputs": [],
   "source": [
    "import pandas as pd\n",
    "import numpy as np\n",
    "import seaborn as sns\n",
    "import matplotlib.pyplot as plt\n",
    "\n",
    "df = pd.read_csv(\"../data/processed/Movie Aggregate Rating Data Final.csv\")\n",
    "# This is a dataset of my own creation. All data in this set was manually obtained and entered by myself."
   ]
  },
  {
   "cell_type": "markdown",
   "metadata": {},
   "source": [
    "## M4 Task 1"
   ]
  },
  {
   "cell_type": "code",
   "execution_count": 2,
   "metadata": {
    "vscode": {
     "languageId": "python"
    }
   },
   "outputs": [
    {
     "name": "stderr",
     "output_type": "stream",
     "text": [
      "C:\\Users\\deleu\\AppData\\Local\\Temp\\ipykernel_23640\\700068517.py:4: FutureWarning: In a future version of pandas all arguments of StringMethods.split except for the argument 'pat' will be keyword-only.\n",
      "  df[['Imdb', 'Imdb Sample Size']] = df['Imdb'].str.split(' ', 1, expand=True)\n",
      "C:\\Users\\deleu\\AppData\\Local\\Temp\\ipykernel_23640\\700068517.py:5: FutureWarning: In a future version of pandas all arguments of StringMethods.split except for the argument 'pat' will be keyword-only.\n",
      "  df[['RYM', 'RYM Sample Size']] = df['Rateyourmusic'].str.split(' ', 1, expand=True)\n",
      "C:\\Users\\deleu\\AppData\\Local\\Temp\\ipykernel_23640\\700068517.py:6: FutureWarning: In a future version of pandas all arguments of StringMethods.split except for the argument 'pat' will be keyword-only.\n",
      "  df[['Letterboxd', 'Letterboxd Sample Size']] = df['Letterboxd'].str.split(' ', 1, expand=True)\n",
      "C:\\Users\\deleu\\AppData\\Local\\Temp\\ipykernel_23640\\700068517.py:7: FutureWarning: In a future version of pandas all arguments of StringMethods.split except for the argument 'pat' will be keyword-only.\n",
      "  df[['Title', 'Release Year']] = df['Title'].str.split('(', 1, expand=True)\n"
     ]
    },
    {
     "data": {
      "text/html": [
       "<div>\n",
       "<style scoped>\n",
       "    .dataframe tbody tr th:only-of-type {\n",
       "        vertical-align: middle;\n",
       "    }\n",
       "\n",
       "    .dataframe tbody tr th {\n",
       "        vertical-align: top;\n",
       "    }\n",
       "\n",
       "    .dataframe thead th {\n",
       "        text-align: right;\n",
       "    }\n",
       "</style>\n",
       "<table border=\"1\" class=\"dataframe\">\n",
       "  <thead>\n",
       "    <tr style=\"text-align: right;\">\n",
       "      <th></th>\n",
       "      <th>Title</th>\n",
       "      <th>Imdb</th>\n",
       "      <th>Letterboxd</th>\n",
       "      <th>Imdb Sample Size</th>\n",
       "      <th>RYM</th>\n",
       "      <th>RYM Sample Size</th>\n",
       "      <th>Letterboxd Sample Size</th>\n",
       "      <th>Release Year</th>\n",
       "    </tr>\n",
       "  </thead>\n",
       "  <tbody>\n",
       "    <tr>\n",
       "      <th>0</th>\n",
       "      <td>Star Wars: Episode VII - The Force Awakens</td>\n",
       "      <td>7.8</td>\n",
       "      <td>6.82</td>\n",
       "      <td>936432.0</td>\n",
       "      <td>6.06</td>\n",
       "      <td>7496.0</td>\n",
       "      <td>802884.0</td>\n",
       "      <td>2015</td>\n",
       "    </tr>\n",
       "    <tr>\n",
       "      <th>1</th>\n",
       "      <td>Avengers: Endgame</td>\n",
       "      <td>8.4</td>\n",
       "      <td>7.84</td>\n",
       "      <td>1143197.0</td>\n",
       "      <td>6.50</td>\n",
       "      <td>5091.0</td>\n",
       "      <td>1131629.0</td>\n",
       "      <td>2019</td>\n",
       "    </tr>\n",
       "    <tr>\n",
       "      <th>2</th>\n",
       "      <td>Avatar</td>\n",
       "      <td>7.9</td>\n",
       "      <td>7.06</td>\n",
       "      <td>1315981.0</td>\n",
       "      <td>5.42</td>\n",
       "      <td>7624.0</td>\n",
       "      <td>814160.0</td>\n",
       "      <td>2009</td>\n",
       "    </tr>\n",
       "    <tr>\n",
       "      <th>3</th>\n",
       "      <td>Black Panther</td>\n",
       "      <td>7.3</td>\n",
       "      <td>7.48</td>\n",
       "      <td>781423.0</td>\n",
       "      <td>5.94</td>\n",
       "      <td>4535.0</td>\n",
       "      <td>1112607.0</td>\n",
       "      <td>2018</td>\n",
       "    </tr>\n",
       "    <tr>\n",
       "      <th>4</th>\n",
       "      <td>Avengers: Infinity War</td>\n",
       "      <td>8.4</td>\n",
       "      <td>8.00</td>\n",
       "      <td>1091599.0</td>\n",
       "      <td>6.86</td>\n",
       "      <td>5540.0</td>\n",
       "      <td>1180128.0</td>\n",
       "      <td>2018</td>\n",
       "    </tr>\n",
       "  </tbody>\n",
       "</table>\n",
       "</div>"
      ],
      "text/plain": [
       "                                         Title  Imdb  Letterboxd  \\\n",
       "0  Star Wars: Episode VII - The Force Awakens    7.8        6.82   \n",
       "1                           Avengers: Endgame    8.4        7.84   \n",
       "2                                      Avatar    7.9        7.06   \n",
       "3                               Black Panther    7.3        7.48   \n",
       "4                      Avengers: Infinity War    8.4        8.00   \n",
       "\n",
       "   Imdb Sample Size   RYM  RYM Sample Size  Letterboxd Sample Size  \\\n",
       "0          936432.0  6.06           7496.0                802884.0   \n",
       "1         1143197.0  6.50           5091.0               1131629.0   \n",
       "2         1315981.0  5.42           7624.0                814160.0   \n",
       "3          781423.0  5.94           4535.0               1112607.0   \n",
       "4         1091599.0  6.86           5540.0               1180128.0   \n",
       "\n",
       "   Release Year  \n",
       "0          2015  \n",
       "1          2019  \n",
       "2          2009  \n",
       "3          2018  \n",
       "4          2018  "
      ]
     },
     "execution_count": 2,
     "metadata": {},
     "output_type": "execute_result"
    }
   ],
   "source": [
    "df = df.loc[:, ~df.columns.str.contains('^Unnamed')]\n",
    "df = df.dropna(subset = ['Imdb', 'Rateyourmusic', 'Letterboxd'])\n",
    "\n",
    "df[['Imdb', 'Imdb Sample Size']] = df['Imdb'].str.split(' ', 1, expand=True)\n",
    "df[['RYM', 'RYM Sample Size']] = df['Rateyourmusic'].str.split(' ', 1, expand=True)\n",
    "df[['Letterboxd', 'Letterboxd Sample Size']] = df['Letterboxd'].str.split(' ', 1, expand=True)\n",
    "df[['Title', 'Release Year']] = df['Title'].str.split('(', 1, expand=True)\n",
    "df = df.drop(columns = ['Rateyourmusic'])\n",
    "df[['Imdb Sample Size', 'RYM Sample Size', 'Letterboxd Sample Size', 'Release Year']] = df[['Imdb Sample Size', 'RYM Sample Size', 'Letterboxd Sample Size', 'Release Year']].replace(r'[^\\w\\s]|_', '', regex=True)\n",
    "# cleaning up data and seperating thigns into proper columns\n",
    "\n",
    "# need to standardize ratings to properly compare\n",
    "df = df.apply(pd.to_numeric, errors = 'ignore')\n",
    "df['RYM'] = df['RYM'].apply(lambda x: x*2)\n",
    "df['Letterboxd'] = df['Letterboxd'].apply(lambda x: x*2)\n",
    "df.head()"
   ]
  },
  {
   "cell_type": "markdown",
   "metadata": {},
   "source": [
    "## M4 Task 3\n",
    "\n",
    "First we will define a column called \"Weighted Score\". This takes the average rating out of ten for each movie from the three websites."
   ]
  },
  {
   "cell_type": "code",
   "execution_count": 3,
   "metadata": {
    "vscode": {
     "languageId": "python"
    }
   },
   "outputs": [
    {
     "data": {
      "text/html": [
       "<div>\n",
       "<style scoped>\n",
       "    .dataframe tbody tr th:only-of-type {\n",
       "        vertical-align: middle;\n",
       "    }\n",
       "\n",
       "    .dataframe tbody tr th {\n",
       "        vertical-align: top;\n",
       "    }\n",
       "\n",
       "    .dataframe thead th {\n",
       "        text-align: right;\n",
       "    }\n",
       "</style>\n",
       "<table border=\"1\" class=\"dataframe\">\n",
       "  <thead>\n",
       "    <tr style=\"text-align: right;\">\n",
       "      <th></th>\n",
       "      <th>Title</th>\n",
       "      <th>Imdb</th>\n",
       "      <th>Letterboxd</th>\n",
       "      <th>Imdb Sample Size</th>\n",
       "      <th>RYM</th>\n",
       "      <th>RYM Sample Size</th>\n",
       "      <th>Letterboxd Sample Size</th>\n",
       "      <th>Release Year</th>\n",
       "      <th>Weighted Rating</th>\n",
       "    </tr>\n",
       "  </thead>\n",
       "  <tbody>\n",
       "    <tr>\n",
       "      <th>0</th>\n",
       "      <td>Star Wars: Episode VII - The Force Awakens</td>\n",
       "      <td>7.8</td>\n",
       "      <td>6.82</td>\n",
       "      <td>936432.0</td>\n",
       "      <td>6.06</td>\n",
       "      <td>7496.0</td>\n",
       "      <td>802884.0</td>\n",
       "      <td>2015</td>\n",
       "      <td>6.893333</td>\n",
       "    </tr>\n",
       "    <tr>\n",
       "      <th>1</th>\n",
       "      <td>Avengers: Endgame</td>\n",
       "      <td>8.4</td>\n",
       "      <td>7.84</td>\n",
       "      <td>1143197.0</td>\n",
       "      <td>6.50</td>\n",
       "      <td>5091.0</td>\n",
       "      <td>1131629.0</td>\n",
       "      <td>2019</td>\n",
       "      <td>7.580000</td>\n",
       "    </tr>\n",
       "    <tr>\n",
       "      <th>2</th>\n",
       "      <td>Avatar</td>\n",
       "      <td>7.9</td>\n",
       "      <td>7.06</td>\n",
       "      <td>1315981.0</td>\n",
       "      <td>5.42</td>\n",
       "      <td>7624.0</td>\n",
       "      <td>814160.0</td>\n",
       "      <td>2009</td>\n",
       "      <td>6.793333</td>\n",
       "    </tr>\n",
       "    <tr>\n",
       "      <th>3</th>\n",
       "      <td>Black Panther</td>\n",
       "      <td>7.3</td>\n",
       "      <td>7.48</td>\n",
       "      <td>781423.0</td>\n",
       "      <td>5.94</td>\n",
       "      <td>4535.0</td>\n",
       "      <td>1112607.0</td>\n",
       "      <td>2018</td>\n",
       "      <td>6.906667</td>\n",
       "    </tr>\n",
       "    <tr>\n",
       "      <th>4</th>\n",
       "      <td>Avengers: Infinity War</td>\n",
       "      <td>8.4</td>\n",
       "      <td>8.00</td>\n",
       "      <td>1091599.0</td>\n",
       "      <td>6.86</td>\n",
       "      <td>5540.0</td>\n",
       "      <td>1180128.0</td>\n",
       "      <td>2018</td>\n",
       "      <td>7.753333</td>\n",
       "    </tr>\n",
       "  </tbody>\n",
       "</table>\n",
       "</div>"
      ],
      "text/plain": [
       "                                         Title  Imdb  Letterboxd  \\\n",
       "0  Star Wars: Episode VII - The Force Awakens    7.8        6.82   \n",
       "1                           Avengers: Endgame    8.4        7.84   \n",
       "2                                      Avatar    7.9        7.06   \n",
       "3                               Black Panther    7.3        7.48   \n",
       "4                      Avengers: Infinity War    8.4        8.00   \n",
       "\n",
       "   Imdb Sample Size   RYM  RYM Sample Size  Letterboxd Sample Size  \\\n",
       "0          936432.0  6.06           7496.0                802884.0   \n",
       "1         1143197.0  6.50           5091.0               1131629.0   \n",
       "2         1315981.0  5.42           7624.0                814160.0   \n",
       "3          781423.0  5.94           4535.0               1112607.0   \n",
       "4         1091599.0  6.86           5540.0               1180128.0   \n",
       "\n",
       "   Release Year  Weighted Rating  \n",
       "0          2015         6.893333  \n",
       "1          2019         7.580000  \n",
       "2          2009         6.793333  \n",
       "3          2018         6.906667  \n",
       "4          2018         7.753333  "
      ]
     },
     "execution_count": 3,
     "metadata": {},
     "output_type": "execute_result"
    }
   ],
   "source": [
    "df['Weighted Rating'] = df['RYM'] + df['Imdb'] + df['Letterboxd']\n",
    "df['Weighted Rating'] = df['Weighted Rating'].apply(lambda x: x/3) #taking the average to get weighted rating\n",
    "df.to_csv(r'../data/processed/Movie Aggregate Rating Processed.csv')\n",
    "df.head()"
   ]
  },
  {
   "cell_type": "markdown",
   "metadata": {},
   "source": [
    "### Scatterplots\n",
    "\n",
    "The first visualization is a scatterplot showing the relationship between IMDb ratings and Rateyourmusic ratings.\n",
    "\n",
    "From this graph, we can make two observations:\n",
    "1. Ratings on Imdb and RYM have a high correlation, which could possibly be linear.\n",
    "2. Ratings on Imdb tend to be significantly higher on average than on RYM"
   ]
  },
  {
   "cell_type": "code",
   "execution_count": null,
   "metadata": {
    "vscode": {
     "languageId": "python"
    }
   },
   "outputs": [],
   "source": [
    "# I am setting the limits of this plot to be between 0 and 10 on both axes to reflect the minimum and maximum rating values.\n",
    "# The reason I am doing this is to clearly show the differences in average ratings on the two sites.\n",
    "plt.ylim(0,10)\n",
    "plt.xlim(0,10)\n",
    "plot1 = sns.scatterplot(data = df, x = 'Imdb', y = 'RYM', s = 5).set(title = 'Relationship between Imdb and RYM Movie Ratings', xlabel = 'Imdb Ratings', ylabel = 'RYM Ratings')"
   ]
  },
  {
   "cell_type": "markdown",
   "metadata": {},
   "source": [
    "The second visualization is a pair plot which compares relationships between each of the four variables of interest.\n",
    "From this plot, we can make the following observations:\n",
    " - Ratings are positively correlated across all websites\n",
    " - Rateyourmusic tends to have the lowest average rating\n",
    " - Letterboxd seems to have the most 'normal' distribution\n",
    " - IMDb tends to be the most negatively skewed distribution, with very few observations lower than a 6/10"
   ]
  },
  {
   "cell_type": "code",
   "execution_count": null,
   "metadata": {
    "vscode": {
     "languageId": "python"
    }
   },
   "outputs": [],
   "source": [
    "pplot = sns.pairplot(data = df, x_vars = ['RYM', 'Imdb', 'Letterboxd', 'Weighted Rating'],\n",
    "             y_vars = ['RYM', 'Imdb', 'Letterboxd', 'Weighted Rating'],\n",
    "             corner = True, plot_kws={'s': 5}).set(xlim=(0,10), ylim = (0,10))"
   ]
  },
  {
   "cell_type": "markdown",
   "metadata": {},
   "source": [
    "This gives us a good idea of how ratings differ across these websites. That being established, we will now directly examine Weighted Rating.\n",
    "\n",
    "### Boxplot and Summary Statistics\n",
    "\n",
    "Starting with this box plot and these summary statistics represented on the box plot, we can make a few observations about Weighted Rating.\n",
    "1. The median of Weighted Rating is 6.33, implying that, by our definition of Good, Bad, and Average, 50% or higher of observations are Average or Bad.\n",
    "2. Quartile 1 is at 5.71/10. This implies that 25% of observations are below this rating.\n",
    "3. Quartile 3 is 7.09/10. This implies that 25% of observations are above this rating.\n",
    "4. 50% of observations fall between 5.71 and 7.09, meaning that the majority of movies from this dataset are by definition, Average or Good.\n",
    "5. The mean (6.39) of Weighted Rating is slightly higher than the median (6.33). This implies that the distribution of Weighted Rating has a slight skew to the right.\n",
    "6. The standard deviation is ~0.96."
   ]
  },
  {
   "cell_type": "code",
   "execution_count": null,
   "metadata": {
    "vscode": {
     "languageId": "python"
    }
   },
   "outputs": [],
   "source": [
    "plot2 = sns.boxplot(data = df, x = 'Weighted Rating').set(title = 'Box Plot of Weighted Rating out of 10 for Imdb and RYM', xlabel = 'Weighted Rating (0-10 Scale)')\n",
    "print(plot2)"
   ]
  },
  {
   "cell_type": "code",
   "execution_count": null,
   "metadata": {
    "vscode": {
     "languageId": "python"
    }
   },
   "outputs": [],
   "source": [
    "df['Weighted Rating'].describe()"
   ]
  },
  {
   "cell_type": "markdown",
   "metadata": {},
   "source": [
    "\n",
    "### Histograms\n",
    "\n",
    "Now we will look at a few frequency distributions of Weighted Rating to see how many observations fall into each bucket."
   ]
  },
  {
   "cell_type": "code",
   "execution_count": null,
   "metadata": {
    "vscode": {
     "languageId": "python"
    }
   },
   "outputs": [],
   "source": [
    "# Let us put Weighted Rating into a histogram to get a clearer sense of its distribution\n",
    "rating_bins = pd.Series(np.arange(0, 11, 1)) \n",
    "# Above code creates a series of cutoff points which we can easily adjust to see the frequency of a movie having a Weighted Rating within specific ranges\n",
    "plot3 = sns.displot(data = df, x = 'Weighted Rating', bins = rating_bins).set(title = 'Distribution of Movies by Weighted Rating')"
   ]
  },
  {
   "cell_type": "code",
   "execution_count": null,
   "metadata": {},
   "outputs": [],
   "source": [
    "rating_bins = pd.Series(np.arange(0, 10.5, 0.5)) \n",
    "plot3 = sns.displot(data = df, x = 'Weighted Rating', bins = rating_bins).set(title = 'Distribution of Movies by Weighted Rating')"
   ]
  },
  {
   "cell_type": "code",
   "execution_count": null,
   "metadata": {},
   "outputs": [],
   "source": [
    "rating_bins = pd.Series(np.arange(0, 10.25, 0.25))\n",
    "plot3 = sns.displot(data = df, x = 'Weighted Rating', bins = rating_bins).set(title = 'Distribution of Movies by Weighted Rating')"
   ]
  },
  {
   "cell_type": "markdown",
   "metadata": {},
   "source": [
    "\n",
    "As we can see, Weighted Ratings are clustered heavily around the 5 to 7.99 range. When we look closer on the following histograms, we see that they are especially frequent around the 5.25 to 6.49 range, with a small dip, and then continue to be frequent in the 6.75 to 7.49 range. This is interesting because it could potentially imply that our distribution is bimodal. However, to determine whether this distribution is actually bimodal would require additional analysis. \n",
    "\n",
    "### Histogram of Quality\n",
    "\n",
    "Now, let's assign a quality value based on the conditions specified earlier. This function iterates through each Weighted Rating and assigns a movie 'Good', 'Bad', 'Average', or 'Great' based on this score."
   ]
  },
  {
   "cell_type": "code",
   "execution_count": null,
   "metadata": {},
   "outputs": [],
   "source": [
    "def cat(x):\n",
    "    if x <= 5.49:\n",
    "        return 'Bad'\n",
    "    if x > 5.49 and x < 6.5 :\n",
    "        return 'Average'\n",
    "    if x >= 6.5 and x < 8 :\n",
    "        return 'Good'\n",
    "    return 'Great'\n",
    "\n",
    "\n",
    "df['Quality'] = df['Weighted Rating'].apply(lambda x: cat(x))\n",
    "df.head()"
   ]
  },
  {
   "cell_type": "markdown",
   "metadata": {},
   "source": [
    "Next, we will make a histogram to see how many movies fall into each category.\n",
    "\n",
    "As we can see, 'Average' and 'Good' movies are most common, with 'Bad' and 'Great' movies being significantly rarer by contrast.\n",
    "This histogram would suggest that high grossing movies tend to be better than the average (6.0/10) movie, but not necessarily great."
   ]
  },
  {
   "cell_type": "code",
   "execution_count": null,
   "metadata": {},
   "outputs": [],
   "source": [
    "order = ['Bad', 'Average', 'Good', 'Great']\n",
    "df['Quality'] = pd.Categorical(df['Quality'], categories=order)\n",
    "qualityplot = sns.displot(data = df, x = 'Quality')"
   ]
  },
  {
   "cell_type": "markdown",
   "metadata": {},
   "source": [
    "### Conclusion to Research Question 1\n",
    "\n",
    "Based on what we have observed in the above graphs, there does appear to be some correlation between a movie's popularity and its quality. By our definitions of what a good, bad, and average movie are, we see that more than half of our observations are on the high end of average, or are good. "
   ]
  },
  {
   "cell_type": "markdown",
   "metadata": {},
   "source": [
    "## Release Year\n",
    "\n",
    "Let us address our other research question, whether release year is significantly correlated with weighted rating.\n",
    "\n",
    "There appears to be a gradual downwards trend in expected weighted rating as we approach the current year. Note however that there tend to be fewer data points as you go further away from the current year. This is probably due in large part because the original dataset for high grossing movies is not inflation-adjusted. This results in a higher representation of newer movies. It may very well be the case that we only see this downward trend because only the better movies from older decades accrued enough nominal revenue to be represented in this dataset. It would be interesting to see whether this trend still exists if this dataset was adjusted for inflation."
   ]
  },
  {
   "cell_type": "code",
   "execution_count": null,
   "metadata": {},
   "outputs": [],
   "source": [
    "plt.ylim(0,10)\n",
    "plt.xlim(1970, 2022) #this range eliminates the single outlier from the pre-40s\n",
    "plot4 = sns.scatterplot(data = df, x = 'Release Year', y = 'Weighted Rating', s = 10)"
   ]
  },
  {
   "cell_type": "markdown",
   "metadata": {},
   "source": [
    "Does it really have a downward trend though? Let us shorten the year range to only movies released in or after 2000.\n",
    "\n",
    "With the range shortened, we see that in years where there is more data, the relationship between release year and quality seems much more unclear. My conclusion is that the correlation between release year and quality is most likely not as significant as it may appear in the first graph."
   ]
  },
  {
   "cell_type": "code",
   "execution_count": null,
   "metadata": {},
   "outputs": [],
   "source": [
    "plt.ylim(0,10)\n",
    "plt.xlim(1999.5, 2022) #this range is used to show how much inflation skews the original graph\n",
    "plot4 = sns.scatterplot(data = df, x = 'Release Year', y = 'Weighted Rating', s = 10)\n",
    "plt.xticks(np.arange(2000, 2023, 2))"
   ]
  },
  {
   "cell_type": "code",
   "execution_count": null,
   "metadata": {},
   "outputs": [],
   "source": []
  }
 ],
 "metadata": {
  "kernelspec": {
   "display_name": "Python 3 (ipykernel)",
   "language": "python",
   "name": "python3"
  },
  "language_info": {
   "codemirror_mode": {
    "name": "ipython",
    "version": 3
   },
   "file_extension": ".py",
   "mimetype": "text/x-python",
   "name": "python",
   "nbconvert_exporter": "python",
   "pygments_lexer": "ipython3",
   "version": "3.10.8"
  }
 },
 "nbformat": 4,
 "nbformat_minor": 4
}
