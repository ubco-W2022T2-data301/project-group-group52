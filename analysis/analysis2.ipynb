{
 "cells": [
  {
   "attachments": {},
   "cell_type": "markdown",
   "metadata": {},
   "source": [
    "# Kyla Friso"
   ]
  },
  {
   "attachments": {},
   "cell_type": "markdown",
   "metadata": {},
   "source": [
    "## Research question/interests\n",
    "\n",
    "I will answer the question, **\"Are shorter or longer films more popular?\"** In terms of the dataset, I will be analyzing whether there is any significant correlation between the runtimes and the rankings or sales (domestic, international, and global) of the included films. I will also look into whether runtimes correlate with the genres or distributors of the films, in case these are acting as confounding variables. Before running any analysis, I will ensure that runtimnes are available for all or the majority of the films, and I will manually add data based on my own research where necessary. Once these statistical analyses are complete, I will begin analyzing my results to build hypotheses to explain the patterns or lack there of observed. I plan on looking into studies on human attention span to see if psychological findings support my own results."
   ]
  },
  {
   "cell_type": "code",
   "execution_count": null,
   "metadata": {},
   "outputs": [
    {
     "ename": "",
     "evalue": "",
     "output_type": "error",
     "traceback": [
      "\u001b[1;31mFailed to start the Kernel. \n",
      "\u001b[1;31mKernel Python 3.9.6 is not usable. Check the Jupyter output tab for more information. \n",
      "\u001b[1;31mView Jupyter <a href='command:jupyter.viewOutput'>log</a> for further details."
     ]
    }
   ],
   "source": [
    "#Load dataset.\n",
    "import pandas as pd\n",
    "df = pd.read_csv(\"../data/raw/Highest Holywood Grossing Movies.csv\")"
   ]
  }
 ],
 "metadata": {
  "kernelspec": {
   "display_name": "Python 3",
   "language": "python",
   "name": "python3"
  }
 },
 "nbformat": 4,
 "nbformat_minor": 2
}
