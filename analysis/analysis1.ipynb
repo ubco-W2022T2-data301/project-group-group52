{
 "cells": [
  {
   "cell_type": "markdown",
   "metadata": {},
   "source": [
    "# Avi Pradhan"
   ]
  },
  {
   "cell_type": "markdown",
   "metadata": {},
   "source": [
    "## Research question/interests\n",
    "\n",
    "The question that most interests me is: **What is the differences in the popularities of generes domestically and internationally and what causes them.**\n",
    "\n",
    "To answer this question I plan on first filtering the data by the highest grossing movies domestically, and then see what genres the top 10 movies have. I will then do the same with international and then world. After that I plan on picking the most common genres out of the top 10 and then reading some articles describing why those genres are popular domestically or internationally."
   ]
  },
  {
   "cell_type": "code",
   "execution_count": null,
   "metadata": {},
   "outputs": [],
   "source": [
    "import pandas as pd\n",
    "df = pd.read_csv(\"../data/raw/Highest Holywood Grossing Movies.csv\")"
   ]
  },
  {
   "cell_type": "code",
   "execution_count": null,
   "metadata": {},
   "outputs": [],
   "source": []
  }
 ],
 "metadata": {
  "kernelspec": {
   "display_name": "Python 3 (ipykernel)",
   "language": "python",
   "name": "python3"
  }
 },
 "nbformat": 4,
 "nbformat_minor": 4
}
